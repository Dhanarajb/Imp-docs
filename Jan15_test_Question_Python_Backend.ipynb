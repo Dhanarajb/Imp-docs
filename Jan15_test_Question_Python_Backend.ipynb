{
  "cells": [
    {
      "cell_type": "markdown",
      "metadata": {
        "id": "view-in-github",
        "colab_type": "text"
      },
      "source": [
        "<a href=\"https://colab.research.google.com/github/Dhanarajb/Imp-docs/blob/main/Jan15_test_Question_Python_Backend.ipynb\" target=\"_parent\"><img src=\"https://colab.research.google.com/assets/colab-badge.svg\" alt=\"Open In Colab\"/></a>"
      ]
    },
    {
      "cell_type": "markdown",
      "metadata": {
        "id": "vP9Fnsi5FzRa"
      },
      "source": [
        "# Python Backend Developer Assessment\n",
        "\n"
      ]
    },
    {
      "cell_type": "markdown",
      "metadata": {
        "id": "Zhm_-eh41925"
      },
      "source": [
        "## 25 minutes"
      ]
    },
    {
      "cell_type": "markdown",
      "metadata": {
        "id": "IgsArDiPIa4W"
      },
      "source": [
        "## 1. Object Oriented Programming\n",
        "\n",
        "* Implement a shape hierarchy.\n",
        "* The hierarchy should include a base class Shape and derived classes Circle and Rectangle.\n",
        "\n",
        "\n",
        "### Requirements:\n",
        "1. Create a base class Shape with the following:\n",
        "    - An abstract method area() that returns the area of the shape\n",
        "    - An abstract method perimeter() that returns the perimeter of the shape\n",
        "    - A method display_info() that prints information about the shape\n",
        "\n",
        "2. Create two derived classes, Circle and Rectangle, that inherit from Shape:\n",
        "    - Implement the area() and perimeter() methods for each shape\n",
        "    - Override the display_info() method to include shape-specific information\n",
        "\n",
        "3. Implement a function calculate_total_area() that takes a list of shapes and returns the sum of their areas\n",
        "\n",
        "\n",
        "\n",
        "Hint : \\\n",
        "\n",
        "    # Create instances of Circle and Rectangle\n",
        "    # Add them to a list\n",
        "    # Call calculate_total_area()\n",
        "    # Call display_info() for each shape"
      ]
    },
    {
      "cell_type": "code",
      "execution_count": 4,
      "metadata": {
        "id": "pi3-zFB7H1z9"
      },
      "outputs": [],
      "source": [
        "from abc import ABC, abstractmethod\n",
        "import math\n",
        "\n",
        "class Shape(ABC):\n",
        "\n",
        "    def area(self):\n",
        "        pass\n",
        "\n",
        "    def perimeter(self):\n",
        "        pass\n",
        "\n",
        "    def display_info(self):\n",
        "        print(f\"Shape: {self.__class__.__name__}\")\n",
        "        print(f\"Area: {self.area():.2f}\")\n",
        "        print(f\"Perimeter: {self.perimeter():.2f}\")\n",
        "\n",
        "class Circle(Shape):\n",
        "    def __init__(self, radius):\n",
        "        self.radius = radius\n",
        "\n",
        "    def area(self):\n",
        "        return math.pi * self.radius ** 2\n",
        "\n",
        "    def perimeter(self):\n",
        "        return 2 * math.pi * self.radius\n",
        "\n",
        "    def display_info(self):\n",
        "        ### invoke display info\n",
        "        print(f\"Radius : : {self.radius}\")\n",
        "        super().display_info()\n",
        "\n",
        "\n",
        "class Rectangle(Shape):\n",
        "    def __init__(self, width, height):\n",
        "        ### complete the initialisation\n",
        "        self.width = width\n",
        "        self.height= height\n",
        "        # pass\n",
        "\n",
        "    def area(self):\n",
        "        ## calculate and return area (width * height)\n",
        "        return self.width * self.height\n",
        "        # pass\n",
        "\n",
        "    def perimeter(self):\n",
        "        ## complete the parimeter formula is 2 * (width + height)\n",
        "        return 2 * (self.width + self.height)\n",
        "        # pass\n",
        "\n",
        "    def display_info(self):\n",
        "        ### invoke display info\n",
        "        print(f\"Width : : {self.width}\")\n",
        "        print(f\"Width : : {self.height}\")\n",
        "        super().display_info()\n",
        "        # pass\n",
        "\n",
        "def calculate_total_area(shapes):\n",
        "    #  pass\n",
        "    return sum(shape.area() for shape in shapes)"
      ]
    },
    {
      "cell_type": "markdown",
      "metadata": {
        "id": "TR2ZrNAVV9dH"
      },
      "source": [
        "### Expected Ouptut from class"
      ]
    },
    {
      "cell_type": "code",
      "execution_count": 5,
      "metadata": {
        "id": "bY0Uh1a0IwFW"
      },
      "outputs": [],
      "source": [
        "# Example usage\n",
        "circle = Circle(5)\n",
        "rectangle = Rectangle(4, 6)"
      ]
    },
    {
      "cell_type": "code",
      "execution_count": 6,
      "metadata": {
        "id": "2iiSoMmBI7IM",
        "colab": {
          "base_uri": "https://localhost:8080/",
          "height": 0
        },
        "outputId": "7831664e-74af-4411-bd4e-977d13870974"
      },
      "outputs": [
        {
          "output_type": "stream",
          "name": "stdout",
          "text": [
            "Total area of all shapes: 102.54\n"
          ]
        }
      ],
      "source": [
        "shapes = [circle, rectangle]\n",
        "total_area = calculate_total_area(shapes)\n",
        "print(f\"Total area of all shapes: {total_area:.2f}\")"
      ]
    },
    {
      "cell_type": "code",
      "execution_count": null,
      "metadata": {
        "id": "MNbwtKX31927"
      },
      "outputs": [],
      "source": [
        "# Total area of all shapes: 102.54"
      ]
    },
    {
      "cell_type": "code",
      "execution_count": 7,
      "metadata": {
        "id": "mOw2bZS2I-3U",
        "colab": {
          "base_uri": "https://localhost:8080/",
          "height": 0
        },
        "outputId": "f0f6e395-3cf6-4057-fd9e-f8426722ab21"
      },
      "outputs": [
        {
          "output_type": "stream",
          "name": "stdout",
          "text": [
            "\n",
            "Individual shape information:\n",
            "Radius : : 5\n",
            "Shape: Circle\n",
            "Area: 78.54\n",
            "Perimeter: 31.42\n",
            "\n",
            "Width : : 4\n",
            "Width : : 6\n",
            "Shape: Rectangle\n",
            "Area: 24.00\n",
            "Perimeter: 20.00\n",
            "\n"
          ]
        }
      ],
      "source": [
        "# Expected output from shape method\n",
        "print(\"\\nIndividual shape information:\")\n",
        "for shape in shapes:\n",
        "    shape.display_info()\n",
        "    print()"
      ]
    },
    {
      "cell_type": "code",
      "execution_count": null,
      "metadata": {
        "id": "GwZ1ygBa1928"
      },
      "outputs": [],
      "source": [
        "# Individual shape information:\n",
        "# Shape: Circle\n",
        "# Area: 78.54\n",
        "# Perimeter: 31.42\n",
        "# Radius: 5\n",
        "\n",
        "# Shape: Rectangle\n",
        "# Area: 24.00\n",
        "# Perimeter: 20.00\n",
        "# Width: 4\n",
        "# Height: 6"
      ]
    },
    {
      "cell_type": "markdown",
      "metadata": {
        "id": "J0jq5pqdYYl4"
      },
      "source": [
        "## 2. Flask API\n",
        "\n",
        " You are given a partially implemented Flask application for a simple Todo list.\n",
        " Your task is to complete the implementation by filling in the missing route handlers and adding appropriate error handling.\n",
        "\n",
        "### Requirements:\n",
        "1. Complete the route handlers for:\n",
        "    - Getting all todos\n",
        "    - Creating a new todo\n",
        "    - Updating an existing todo\n",
        "2. Implement proper error handling for cases such as:\n",
        "    - Todo not found\n",
        "    - Invalid input data\n",
        "3. Use appropriate HTTP status codes for responses\n",
        "4. Ensure all responses are in JSON format\n",
        "\n",
        "**Complete the missing components in the code and If there are issue with the code please fix it.**\n",
        "\n",
        "Note:\n",
        "- You may add any additional helper functions if needed\n",
        "- Remember to handle potential errors and edge cases\n",
        "- Use appropriate HTTP status codes (200, 201, 404, 400, etc.)\n",
        "- All responses should be in JSON format\n",
        "\n",
        "\n"
      ]
    },
    {
      "cell_type": "code",
      "execution_count": 8,
      "metadata": {
        "id": "A0HNW03nFYSl",
        "colab": {
          "base_uri": "https://localhost:8080/",
          "height": 0
        },
        "outputId": "07e7c835-488e-499c-cb98-7ddf7d6b3919"
      },
      "outputs": [
        {
          "output_type": "stream",
          "name": "stdout",
          "text": [
            " * Serving Flask app '__main__'\n",
            " * Debug mode: on\n"
          ]
        },
        {
          "output_type": "stream",
          "name": "stderr",
          "text": [
            "INFO:werkzeug:\u001b[31m\u001b[1mWARNING: This is a development server. Do not use it in a production deployment. Use a production WSGI server instead.\u001b[0m\n",
            " * Running on http://127.0.0.1:5000\n",
            "INFO:werkzeug:\u001b[33mPress CTRL+C to quit\u001b[0m\n",
            "INFO:werkzeug: * Restarting with stat\n"
          ]
        }
      ],
      "source": [
        "from flask import Flask, request, jsonify\n",
        "\n",
        "app = Flask(__name__)\n",
        "\n",
        "# In-memory storage for todos\n",
        "todos = [\n",
        "    {\"id\": 1, \"task\": \"Learn Flask\", \"completed\": False},\n",
        "    {\"id\": 2, \"task\": \"Build an API\", \"completed\": False}\n",
        "]\n",
        "\n",
        "# Helper function to find a todo by ID\n",
        "def find_todo(todo_id):\n",
        "    return next((todo for todo in todos if todo['id'] == todo_id), None)\n",
        "\n",
        "@app.route('/todos', methods=['GET'])\n",
        "def get_todos():\n",
        "  return jsonify(todos), 200\n",
        "    # TODO: Implement get all todos\n",
        "    # This should return all todos as a JSON response\n",
        "    # pass\n",
        "\n",
        "@app.route('/todos', methods=['POST'])\n",
        "def create_todo():\n",
        "    data = request.get_json()\n",
        "\n",
        "\n",
        "    if not data or 'task' not in data:\n",
        "        return jsonify({\"error\": \"Invalid input\"}), 400\n",
        "\n",
        "    new_id = max(todo[\"id\"] for todo in todos) +1 if todos else 1\n",
        "    new_todo = {\n",
        "        \"id\":new_id,\n",
        "        \"task\":data[\"task\"],\n",
        "        \"completed\":False\n",
        "    }\n",
        "    todos.append(new_todo)\n",
        "\n",
        "    return jsonify(new_todo), 201\n",
        "    # TODO: Implement create todo\n",
        "    # This should create a new todo and return it as a JSON response\n",
        "    # Remember to generate a new ID for the todo\n",
        "    pass\n",
        "\n",
        "@app.route('/todos/<int:todo_id>', methods=['PUT'])\n",
        "def update_todo(todo_id):\n",
        "    todo = find_todo(todo_id)\n",
        "    if not todo:\n",
        "        return jsonify({\"error\": \"Todo not found\"}), 404\n",
        "    todo[\"completed\"] = True\n",
        "    return jsonify(todo), 200\n",
        "    # Implement update todo\n",
        "    # This should mark the todo as completed\n",
        "    # and return the updated todo as a JSON response\n",
        "    pass\n",
        "\n",
        "if __name__ == '__main__':\n",
        "    app.run(debug=True)\n"
      ]
    },
    {
      "cell_type": "markdown",
      "metadata": {
        "id": "kC6ys6BLICv8"
      },
      "source": [
        "## 3. Django\n",
        "Django view function that invokes an API request, there are some missing pieces and errors in the code. Please identify the error and missing elements and fix it.\n"
      ]
    },
    {
      "cell_type": "code",
      "execution_count": null,
      "metadata": {
        "id": "3Nhe3MAoIaq_"
      },
      "outputs": [],
      "source": [
        "#!pip install django"
      ]
    },
    {
      "cell_type": "code",
      "execution_count": null,
      "metadata": {
        "id": "-uqPzsaHNMHF"
      },
      "outputs": [],
      "source": [
        "# models.py\n",
        "from django.db import models\n",
        "from django.contrib.auth.models import User\n",
        "\n",
        "class Post(models.Model):\n",
        "    title = models.CharField(max_length=100)\n",
        "    content = models.TextField()\n",
        "    author = models.ForeignKey(User, on_delete=models.CASCADE)\n",
        "    created_at = models.DateTimeField(auto_now_add=True)\n",
        "\n",
        "\n",
        "# serializers.py\n",
        "from rest_framework import serializers\n",
        "from .models import Post\n",
        "\n",
        "class PostSerializer(serializers.ModelSerializer):\n",
        "    class Meta:\n",
        "        model = Post\n",
        "        fields = ['id', 'title', 'content', 'author', 'created_at']\n",
        "        read_only_fields = ['author', 'created_at']\n"
      ]
    },
    {
      "cell_type": "code",
      "execution_count": null,
      "metadata": {
        "id": "w2z6jAHfNRVj"
      },
      "outputs": [],
      "source": [
        "# views.py\n",
        "from rest_framework import viewsets, permissions\n",
        "from .models import Post\n",
        "from .serializers import PostSerializer\n",
        "\n",
        "class PostViewSet(viewsets.ModelViewSet):\n",
        "    queryset = Post.objects.all()\n",
        "    serializer_class = PostSerializer\n",
        "    permission_classes = [permissions.IsAuthenticatedOrReadOnly]\n",
        "\n",
        "    def perform_create(self, serializer):\n",
        "        # TODO: Implement this method to set the author as the current user\n",
        "        serializer.save(author=self.request.user)\n",
        "        pass\n",
        "\n",
        "    def get_queryset(self):\n",
        "        user = self.request.user\n",
        "\n",
        "        if user.is_authenticated:\n",
        "          return Post.objects.filter(author=user)\n",
        "        return Post.objects.all()\n",
        "        # TODO: Implement this method to return appropriate queryset based on user permissions\n",
        "        pass"
      ]
    },
    {
      "cell_type": "code",
      "execution_count": null,
      "metadata": {
        "id": "xP7m6UWjbm08"
      },
      "outputs": [],
      "source": [
        "# urls.py\n",
        "from django.urls import path, include\n",
        "from rest_framework.routers import DefaultRouter\n",
        "from .views import PostViewSet\n",
        "\n",
        "router = DefaultRouter()\n",
        "router.register(r'posts', PostViewSet)\n",
        "\n",
        "urlpatterns = [\n",
        "    path('', include(router.urls)),\n",
        "]\n"
      ]
    },
    {
      "cell_type": "markdown",
      "metadata": {
        "id": "2hV-qDkx1929"
      },
      "source": [
        "https://codesandbox.io/p/sandbox/reactjs-hello-world-c9cwe   \n",
        "https://playcode.io/react  \n",
        "\n",
        "## 4. React Coding Challenge: Dynamic List with Conditional Delete Button\n",
        "\n",
        " Objective: Create a React component that displays a list of items with checkboxes and delete buttons. Implement the following functionality:\n",
        "1.\tGenerate a List with Delete Buttons:\n",
        "o\tDisplay a list of items, each with a checkbox and a delete button.\n",
        "o\tWhen the delete button is clicked, the corresponding item should be removed from the list.\n",
        "2.\tConditional Display of Delete Buttons:\n",
        "o\tThe delete button for each item should only be visible when the checkbox is checked.\n",
        "o\tEnsure that unchecked items do not display their delete buttons.\n",
        "\n",
        "items = [\"Play cricket\", \"Read a book\", \"Go jogging\"];\n",
        "\n",
        "import { useState } from 'react';\n",
        "import reactLogo from './assets/react.svg';\n",
        "import viteLogo from '/vite.svg';\n",
        "import './App.css';\n",
        "\n",
        "function App() {\n",
        "  const initialItems = ['Play cricket', 'Read a book', 'Go jogging'];\n",
        "\n",
        "  const [items, setItesms] = useState(initialItems);\n",
        "  const [checkedstate, setCheckedState] = useState(\n",
        "    new Array(initialItems.length).fill(false)\n",
        "  );\n",
        "  const handleChackBocchange = (index) => {\n",
        "    const newCheckedState = [...checkedstate];\n",
        "    newCheckedState[index] = !newCheckedState[index];\n",
        "    setCheckedState(newCheckedState);\n",
        "  };\n",
        "\n",
        "  const handleDelete = (index) => {\n",
        "    const newItems = items.filter((_, i) => i !== index);\n",
        "    const newCheckedState = checkedstate.filter((_, i) => i !== index);\n",
        "    setItesms(newItems);\n",
        "    setCheckedState(newCheckedState);\n",
        "  };\n",
        "\n",
        "  return (\n",
        "    <>\n",
        "      <ul>\n",
        "        {items.map((item, index) => (\n",
        "          <li>\n",
        "            <input\n",
        "              type=\"checkbox\"\n",
        "              checked={checkedstate[index]}\n",
        "              onChange={() => handleChackBocchange(index)}\n",
        "            />\n",
        "            <span>{item}</span>\n",
        "            {checkedstate[index] && (\n",
        "              <button\n",
        "                onClick={() => handleDelete(index)}\n",
        "                style={{\n",
        "                  cursor: 'pointer',\n",
        "                  backgroundColor: 'red',\n",
        "                  color: 'white',\n",
        "                  border: 'none',\n",
        "                }}\n",
        "              >\n",
        "                Delete\n",
        "              </button>\n",
        "            )}\n",
        "          </li>\n",
        "        ))}\n",
        "      </ul>\n",
        "    </>\n",
        "  );\n",
        "}\n",
        "\n",
        "export default App;\n",
        "\n"
      ]
    }
  ],
  "metadata": {
    "colab": {
      "provenance": [],
      "include_colab_link": true
    },
    "kernelspec": {
      "display_name": "Python 3",
      "language": "python",
      "name": "python3"
    },
    "language_info": {
      "codemirror_mode": {
        "name": "ipython",
        "version": 3
      },
      "file_extension": ".py",
      "mimetype": "text/x-python",
      "name": "python",
      "nbconvert_exporter": "python",
      "pygments_lexer": "ipython3",
      "version": "3.8.5"
    }
  },
  "nbformat": 4,
  "nbformat_minor": 0
}